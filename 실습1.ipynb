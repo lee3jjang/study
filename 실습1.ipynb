{
 "metadata": {
  "language_info": {
   "codemirror_mode": {
    "name": "ipython",
    "version": 3
   },
   "file_extension": ".py",
   "mimetype": "text/x-python",
   "name": "python",
   "nbconvert_exporter": "python",
   "pygments_lexer": "ipython3",
   "version": "3.9.1-final"
  },
  "orig_nbformat": 2,
  "kernelspec": {
   "name": "python3",
   "display_name": "Python 3.9.1 64-bit",
   "metadata": {
    "interpreter": {
     "hash": "5e44c50a3e1c98b95e74690f342b354af7731964c5fccc4ba56deb7c64889c24"
    }
   }
  }
 },
 "nbformat": 4,
 "nbformat_minor": 2,
 "cells": [
  {
   "cell_type": "code",
   "execution_count": 38,
   "metadata": {},
   "outputs": [],
   "source": [
    "import time\n",
    "import pyautogui"
   ]
  },
  {
   "cell_type": "code",
   "execution_count": 56,
   "metadata": {},
   "outputs": [
    {
     "output_type": "execute_result",
     "data": {
      "text/plain": [
       "Point(x=1444, y=536)"
      ]
     },
     "metadata": {},
     "execution_count": 56
    }
   ],
   "source": [
    "# 좌표 객체 얻기\n",
    "pyautogui.position()"
   ]
  },
  {
   "cell_type": "code",
   "execution_count": 59,
   "metadata": {},
   "outputs": [],
   "source": [
    "# 마우스 이동 (x 좌표, y 좌표)\n",
    "pyautogui.moveTo(650, 1062)\n",
    "pyautogui.click()\n",
    "time.sleep(1)\n",
    "pyautogui.hotkey('win', 'up')\n",
    "pyautogui.write('naver.com')\n",
    "pyautogui.hotkey('enter')\n",
    "time.sleep(1)\n",
    "pyautogui.moveTo(1444, 536)\n",
    "pyautogui.click()"
   ]
  }
 ]
}